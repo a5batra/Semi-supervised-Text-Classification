{
 "cells": [
  {
   "cell_type": "markdown",
   "metadata": {},
   "source": [
    "# Spring 2019 Statistical NLP, UCSD\n",
    "Programming Assignment 2: Text Classification <br>\n"
   ]
  },
  {
   "cell_type": "code",
   "execution_count": 1,
   "metadata": {},
   "outputs": [],
   "source": [
    "import nltk\n",
    "import sentiment as sentimentinterface\n",
    "import classify \n",
    "import timeit\n",
    "import numpy as np\n",
    "from sklearn.linear_model import LogisticRegression\n",
    "import matplotlib.pyplot as plt\n",
    "plt.switch_backend('agg')\n",
    "import matplotlib.ticker as ticker\n",
    "%matplotlib inline"
   ]
  },
  {
   "cell_type": "markdown",
   "metadata": {},
   "source": [
    "## 1. Inspect the Feature representation"
   ]
  },
  {
   "cell_type": "code",
   "execution_count": 2,
   "metadata": {},
   "outputs": [
    {
     "name": "stdout",
     "output_type": "stream",
     "text": [
      "Reading data\n",
      "-- train data\n",
      "sentiment/train.tsv\n",
      "4582\n",
      "-- dev data\n",
      "sentiment/dev.tsv\n",
      "458\n",
      "-- transforming data and labels\n"
     ]
    }
   ],
   "source": [
    "print(\"Reading data\")\n",
    "tarfname = \"data/sentiment.tar.gz\"\n",
    "sentiment = sentimentinterface.read_files(tarfname)\n",
    "    "
   ]
  },
  {
   "cell_type": "code",
   "execution_count": 3,
   "metadata": {},
   "outputs": [
    {
     "name": "stdout",
     "output_type": "stream",
     "text": [
      "Went last night for the first time with my boyfriend. Let me start off by saying I'm vegetarian, but my boyfriend is not. I ordered the chicken v mushroom, it\n",
      "~~~~~~~~~~~~~~~~~~~~~~~~~~~~~~~~~~~~~~~~~~~~~~~~~~\n",
      "['went' 'last' 'night' 'for' 'the' 'first' 'time' 'with' 'my' 'boyfriend'\n",
      " 'let' 'me' 'start' 'off' 'by' 'saying' 'vegetarian' 'but' 'is' 'not'\n",
      " 'ordered' 'chicken' 'mushroom' 'it']\n",
      "[0. 0. 0. ... 0. 0. 0.]   (0, 9592)\t0.15878840323061888\n",
      "  (0, 4997)\t0.18013187210760973\n",
      "  (0, 5927)\t0.18128971329445778\n",
      "  (0, 3581)\t0.09173674343456677\n",
      "  (0, 8764)\t0.11373143876251374\n",
      "  (0, 3468)\t0.16092582463668073\n",
      "  (0, 8864)\t0.1437049999370043\n",
      "  (0, 9689)\t0.11755398468216353\n",
      "  (0, 5821)\t0.1951450431575054\n",
      "  (0, 1266)\t0.5071710508679143\n",
      "  (0, 5090)\t0.21737213645730202\n",
      "  (0, 5487)\t0.14560545620461618\n",
      "  (0, 8278)\t0.2337143151848799\n",
      "  (0, 6057)\t0.19499770394693827\n",
      "  (0, 1470)\t0.1636395674056185\n",
      "  (0, 7572)\t0.24349838833929432\n",
      "  (0, 9333)\t0.2722838762717203\n",
      "  (0, 1452)\t0.11665854303032543\n",
      "  (0, 4653)\t0.09211777151717868\n",
      "  (0, 5981)\t0.12384828747126769\n",
      "  (0, 6150)\t0.17747411888453313\n",
      "  (0, 1791)\t0.1983551394461534\n",
      "  (0, 5810)\t0.30615072747343697\n",
      "  (0, 4665)\t0.0956123347467577\n"
     ]
    }
   ],
   "source": [
    "array = sentiment.trainX # the vocabulary dictionary and return term-document matrix\n",
    "print(sentiment.train_data[0]) # the first entry in training data\n",
    "X = sentiment.trainX # term-document matrix; \n",
    "# print(X.toarray().shape) #X : array, [n_samples, n_features]\n",
    "print('~'*50)\n",
    "print(sentiment.tfidf_vect.inverse_transform(X)[0]) # Return terms with nonzero entries in X[0].\n",
    "X_arr = X.toarray()\n",
    "print(X_arr[0], X[0])"
   ]
  },
  {
   "cell_type": "code",
   "execution_count": 4,
   "metadata": {},
   "outputs": [
    {
     "name": "stdout",
     "output_type": "stream",
     "text": [
      "ordered\n",
      "chicken\n"
     ]
    }
   ],
   "source": [
    "print((sentiment.tfidf_vect.get_feature_names()[6150])) # map id to word\n",
    "print((sentiment.tfidf_vect.get_feature_names()[1791]))"
   ]
  },
  {
   "cell_type": "markdown",
   "metadata": {},
   "source": [
    "# 2. Inspect the label representation"
   ]
  },
  {
   "cell_type": "code",
   "execution_count": 5,
   "metadata": {},
   "outputs": [
    {
     "name": "stdout",
     "output_type": "stream",
     "text": [
      "target labels  ['NEGATIVE' 'POSITIVE']\n",
      "target labels  [1 1 0 0 1]\n",
      "['NEGATIVE', 'POSITIVE']\n",
      "[0, 1]\n",
      "['POSITIVE', 'POSITIVE', 'NEGATIVE', 'NEGATIVE', 'POSITIVE']\n"
     ]
    },
    {
     "name": "stderr",
     "output_type": "stream",
     "text": [
      "C:\\Users\\Ankit Batra\\Anaconda3\\lib\\site-packages\\sklearn\\preprocessing\\label.py:151: DeprecationWarning: The truth value of an empty array is ambiguous. Returning False, but in future this will result in an error. Use `array.size > 0` to check that an array is not empty.\n",
      "  if diff:\n"
     ]
    }
   ],
   "source": [
    "print('target labels ', sentiment.target_labels)\n",
    "print('target labels ', sentiment.trainy[:5]) # show the labels of the first 5 training examples\n",
    "print(list(sentiment.le.classes_))\n",
    "print(list(sentiment.le.transform(['NEGATIVE', 'POSITIVE'])))\n",
    "print(list(sentiment.le.inverse_transform(list(sentiment.trainy[:5]))))"
   ]
  },
  {
   "cell_type": "markdown",
   "metadata": {},
   "source": [
    "# 3. Take a look at the data"
   ]
  },
  {
   "cell_type": "code",
   "execution_count": 6,
   "metadata": {},
   "outputs": [
    {
     "name": "stdout",
     "output_type": "stream",
     "text": [
      "Went last night for the first time with my boyfriend. Let me start off by saying I'm vegetarian, but my boyfriend is not. I ordered the chicken v mushroom, it\n"
     ]
    },
    {
     "data": {
      "image/png": "[encoded data removed]",
      "text/plain": [
       "<matplotlib.figure.Figure at 0x1517a2f5630>"
      ]
     },
     "metadata": {},
     "output_type": "display_data"
    }
   ],
   "source": [
    "print(sentiment.train_data[0])\n",
    "\n",
    "lens = []\n",
    "for review in sentiment.train_data:\n",
    "    lens.append(len(review.split()))\n",
    "plt.hist(lens, color='m')\n",
    "plt.axvline(np.mean(lens), color='c', linestyle='dashed', linewidth=2,label='mean review length: '+str(np.mean(lens)))\n",
    "plt.legend()\n",
    "plt.show()"
   ]
  },
  {
   "cell_type": "markdown",
   "metadata": {},
   "source": [
    "# 4. Train the classifier"
   ]
  },
  {
   "cell_type": "code",
   "execution_count": 47,
   "metadata": {},
   "outputs": [],
   "source": [
    "cls = classify.train_classifier(sentiment.trainX, sentiment.trainy)\n",
    "# cls = LogisticRegression(C=10, penalty='l1', random_state=0, max_iter=10000)\n",
    "# cls.fit(sentiment.trainX, sentiment.trainy)"
   ]
  },
  {
   "cell_type": "markdown",
   "metadata": {},
   "source": [
    "# 5. What are the decisive features"
   ]
  },
  {
   "cell_type": "code",
   "execution_count": 48,
   "metadata": {},
   "outputs": [
    {
     "name": "stdout",
     "output_type": "stream",
     "text": [
      "--------------------------------------------------\n",
      "Top k=8\n",
      "--------------------------------------------------\n",
      "favorite\n",
      "love\n",
      "awesome\n",
      "best\n",
      "excellent\n",
      "great\n",
      "delicious\n",
      "amazing\n",
      "--------------------------------------------------\n",
      "Bottom k=8\n",
      "--------------------------------------------------\n",
      "worst\n",
      "horrible\n",
      "terrible\n",
      "rude\n",
      "not\n",
      "disappointing\n",
      "disappointed\n",
      "bad\n"
     ]
    }
   ],
   "source": [
    "coefficients=cls.coef_[0]\n",
    "k = 8\n",
    "top_k =np.argsort(coefficients)[-k:]\n",
    "top_k_words = []\n",
    "\n",
    "print('-'*50)\n",
    "print('Top k=%d' %k)\n",
    "print('-'*50)\n",
    "\n",
    "for i in top_k:\n",
    "    print(sentiment.tfidf_vect.get_feature_names()[i])\n",
    "    top_k_words.append(sentiment.tfidf_vect.get_feature_names()[i])\n",
    "#print(sentiment.count_ve\n",
    "print('-'*50)\n",
    "print('Bottom k=%d' %k)\n",
    "print('-'*50)\n",
    "#top_k = np.argpartition(coefficients, -k)[-k:]\n",
    "bottom_k =np.argsort(coefficients)[:k]\n",
    "bottom_k_words = []\n",
    "#print(top_k)\n",
    "for i in bottom_k:\n",
    "    print(sentiment.tfidf_vect.get_feature_names()[i])\n",
    "    bottom_k_words.append(sentiment.tfidf_vect.get_feature_names()[i])\n",
    "\n",
    "#print(sentiment.count_ve"
   ]
  },
  {
   "cell_type": "markdown",
   "metadata": {},
   "source": [
    "# 6. How is the classifier doing edge cases\n",
    "\n",
    "## 6 a) reviews that contain top-k words\n",
    " in this case we expect predictions to be mostly POSITIVE (i.e LABEL=1)\n"
   ]
  },
  {
   "cell_type": "code",
   "execution_count": 49,
   "metadata": {},
   "outputs": [
    {
     "name": "stdout",
     "output_type": "stream",
     "text": [
      "  Accuracy on these reviews  is: 0.808\n"
     ]
    },
    {
     "data": {
      "image/png": "[encoded data removed]",
      "text/plain": [
       "<matplotlib.figure.Figure at 0x1517b7b2198>"
      ]
     },
     "metadata": {},
     "output_type": "display_data"
    }
   ],
   "source": [
    "top_k_reviews = []\n",
    "top_k_labels = []\n",
    "for j in range(len(sentiment.dev_data)):\n",
    "    review = sentiment.dev_data[j]\n",
    "    for word in top_k_words:\n",
    "        if word in review:\n",
    "            top_k_reviews.append(review)\n",
    "            top_k_labels.append(sentiment.dev_labels[j])\n",
    "            break\n",
    "    \n",
    "        #print(review)\n",
    "dev_X = sentiment.tfidf_vect.transform(top_k_reviews)\n",
    "classify.evaluate(dev_X, sentiment.le.transform(top_k_labels), cls, 'these reviews')\n",
    "\n",
    "\n",
    "yp = cls.predict_proba(dev_X) \n",
    "#print(yp.shape)\n",
    "plt.plot(yp[:,0],'b.') # ['0: NEGATIVE', '1:POSITIVE'] \n",
    "plt.plot(yp[:,1],'ro') \n",
    "plt.title('Classifier Predictions on reviews with topk words (highly positive)')\n",
    "plt.ylabel('Predicted score')\n",
    "plt.xlabel('Example #')\n",
    "plt.show()"
   ]
  },
  {
   "cell_type": "markdown",
   "metadata": {},
   "source": [
    "## 6b) reviews that contain bottom-k words\n",
    " in this case we expect predictions to be mostly NEGATIVE (i.e LABEL=0)"
   ]
  },
  {
   "cell_type": "code",
   "execution_count": 50,
   "metadata": {},
   "outputs": [
    {
     "name": "stdout",
     "output_type": "stream",
     "text": [
      "  Accuracy on these reviews  is: 0.796875\n"
     ]
    },
    {
     "data": {
      "image/png": "[encoded data removed]",
      "text/plain": [
       "<matplotlib.figure.Figure at 0x1517b7afa20>"
      ]
     },
     "metadata": {},
     "output_type": "display_data"
    }
   ],
   "source": [
    "bottom_k_reviews = []\n",
    "bottom_k_labels = []\n",
    "for j in range(len(sentiment.dev_data)):\n",
    "    review = sentiment.dev_data[j]\n",
    "    for word in bottom_k_words:\n",
    "        if word in review:\n",
    "            bottom_k_reviews.append(review)\n",
    "            bottom_k_labels.append(sentiment.dev_labels[j])\n",
    "            break\n",
    "    \n",
    "        #print(review)\n",
    "dev_X = sentiment.tfidf_vect.transform(bottom_k_reviews)\n",
    "classify.evaluate(dev_X, sentiment.le.transform(bottom_k_labels), cls, 'these reviews')\n",
    "yp = cls.predict_proba(dev_X) \n",
    "#print(yp.shape)\n",
    "plt.plot(yp[:,0],'b.') # ['0: NEGATIVE', '1:POSITIVE'] \n",
    "plt.plot(yp[:,1],'ro') \n",
    "plt.show()"
   ]
  },
  {
   "cell_type": "code",
   "execution_count": 52,
   "metadata": {},
   "outputs": [
    {
     "name": "stdout",
     "output_type": "stream",
     "text": [
      "sentiment/unlabeled.tsv\n",
      "(91524, 9882)\n"
     ]
    }
   ],
   "source": [
    "# Reading the unlabeled data\n",
    "unlabeled_data = read_unlabeled(tarfname, sentiment)"
   ]
  },
  {
   "cell_type": "code",
   "execution_count": null,
   "metadata": {},
   "outputs": [],
   "source": []
  }
 ],
 "metadata": {
  "kernelspec": {
   "display_name": "Python 3",
   "language": "python",
   "name": "python3"
  },
  "language_info": {
   "codemirror_mode": {
    "name": "ipython",
    "version": 3
   },
   "file_extension": ".py",
   "mimetype": "text/x-python",
   "name": "python",
   "nbconvert_exporter": "python",
   "pygments_lexer": "ipython3",
   "version": "3.6.4"
  }
 },
 "nbformat": 4,
 "nbformat_minor": 2
}
